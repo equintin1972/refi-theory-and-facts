{
 "cells": [
  {
   "cell_type": "code",
   "execution_count": 79,
   "id": "6fc92929",
   "metadata": {},
   "outputs": [
    {
     "name": "stdout",
     "output_type": "stream",
     "text": [
      "Loading library list...\n",
      "Done\n"
     ]
    }
   ],
   "source": [
    "import wrds\n",
    "import pandas as pd\n",
    "db = wrds.Connection(wrds_username='equintin')\n",
    "# db.create_pgpass_file() # only needed very first time all good from then on"
   ]
  },
  {
   "cell_type": "code",
   "execution_count": 80,
   "id": "fbdc873e",
   "metadata": {},
   "outputs": [],
   "source": [
    "# run the following to get all the tables from Mergent\n",
    "\n",
    "# db.list_tables(library=\"fisd\")\n",
    "\n",
    "# full list of tables and the content of each can be found here:\n",
    "# https://technodocbox.com/Databases/68967652-Mergent-bondsource-corporate-bond-securities-database-dictionary.html\n"
   ]
  },
  {
   "cell_type": "code",
   "execution_count": 87,
   "id": "4eaa4105",
   "metadata": {
    "scrolled": false
   },
   "outputs": [
    {
     "data": {
      "text/html": [
       "<div>\n",
       "<style scoped>\n",
       "    .dataframe tbody tr th:only-of-type {\n",
       "        vertical-align: middle;\n",
       "    }\n",
       "\n",
       "    .dataframe tbody tr th {\n",
       "        vertical-align: top;\n",
       "    }\n",
       "\n",
       "    .dataframe thead th {\n",
       "        text-align: right;\n",
       "    }\n",
       "</style>\n",
       "<table border=\"1\" class=\"dataframe\">\n",
       "  <thead>\n",
       "    <tr style=\"text-align: right;\">\n",
       "      <th></th>\n",
       "      <th>issue_id</th>\n",
       "      <th>dated_date</th>\n",
       "      <th>first_interest_date</th>\n",
       "      <th>interest_frequency</th>\n",
       "      <th>coupon</th>\n",
       "      <th>pay_in_kind</th>\n",
       "      <th>pay_in_kind_exp_date</th>\n",
       "      <th>coupon_change_indicator</th>\n",
       "      <th>day_count_basis</th>\n",
       "      <th>last_interest_date</th>\n",
       "      <th>next_interest_date</th>\n",
       "    </tr>\n",
       "  </thead>\n",
       "  <tbody>\n",
       "    <tr>\n",
       "      <th>0</th>\n",
       "      <td>1.0</td>\n",
       "      <td>1989-11-01</td>\n",
       "      <td>1990-05-01</td>\n",
       "      <td>2</td>\n",
       "      <td>9.5</td>\n",
       "      <td>N</td>\n",
       "      <td>None</td>\n",
       "      <td>N</td>\n",
       "      <td>30/360</td>\n",
       "      <td>2001-05-01</td>\n",
       "      <td>None</td>\n",
       "    </tr>\n",
       "  </tbody>\n",
       "</table>\n",
       "</div>"
      ],
      "text/plain": [
       "   issue_id  dated_date first_interest_date interest_frequency  coupon  \\\n",
       "0       1.0  1989-11-01          1990-05-01                  2     9.5   \n",
       "\n",
       "  pay_in_kind pay_in_kind_exp_date coupon_change_indicator day_count_basis  \\\n",
       "0           N                 None                       N          30/360   \n",
       "\n",
       "  last_interest_date next_interest_date  \n",
       "0         2001-05-01               None  "
      ]
     },
     "execution_count": 87,
     "metadata": {},
     "output_type": "execute_result"
    }
   ],
   "source": [
    "# I use the following to see what's in each table\n",
    "db.get_table('fisd','fisd_coupon_info',obs=1)\n",
    "# db.list_tables(library=\"fisd\")"
   ]
  },
  {
   "cell_type": "code",
   "execution_count": 82,
   "id": "3cfff90f",
   "metadata": {},
   "outputs": [],
   "source": [
    "# sql lets you draw from separate tables and merge in one step but I find it more clear for now ...\n",
    "# ... to extract what I want from each table and use Pandas to merge\n",
    "\n",
    "data1 =db.raw_sql('''select issue_id, callable, initial_call_data, \n",
    "                    next_call_price, make_whole, \n",
    "                    call_in_whole FROM fisd.fisd_redemption WHERE callable='Y' ''')\n",
    "\n",
    "data2= db.raw_sql('''select issue_id, issuer_id, issuer_cusip, prospectus_issuer_name, \n",
    "                    maturity, offering_amt, offering_price, \n",
    "                    announced_call FROM fisd.fisd_issue ''')\n",
    "\n",
    "data3= db.raw_sql('''select issue_id, dated_date, interest_frequency, coupon, coupon_change_indicator,\n",
    "                    first_interest_date FROM fisd.fisd_coupon_info WHERE dated_date>'2020-01-01' ''')\n",
    "\n",
    "data4= db.raw_sql('''select issue_id, \n",
    "                    call_price FROM fisd.fisd_call_schedule ''').drop_duplicates(subset=['issue_id']) # dropping duplicates results in keeping only the first call price\n",
    "\n",
    "data5= db.raw_sql('''select issue_id, rating_date, rating, \n",
    "                    investment_grade FROM fisd.fisd_rating ''').drop_duplicates(subset=['issue_id']) # dropping duplicates results in keeping only the first rating\n",
    "\n",
    "dataissuer=db.raw_sql('''select issuer_id, industry_code, naics_code FROM fisd.fisd_issuer ''')\n",
    "\n",
    "data2m=pd.merge(data2, dataissuer, on=\"issuer_id\")\n",
    "\n",
    "\n",
    "# the following line strips the information we need from the initial_call_date sentence\n",
    "\n",
    "data1['First call date']=[x[1].split(\"/\") if type(x)==list and x[0]=='NC' else 'NA' for x in data1['initial_call_data'].str.split()]\n",
    "\n",
    "# an example of  a merge\n",
    "\n",
    "\n",
    "from functools import reduce\n",
    "\n",
    "dfs=[data1,data2m,data3, data4,data5]\n",
    "data_fisd = reduce(lambda left,right: pd.merge(left,right,on='issue_id'), dfs)\n",
    "data_fisd['cusip6']=data_fisd['issuer_cusip']\n",
    "\n",
    "#data_fisd=pd.merge(data2, data3, on=\"issue_id\")\n",
    "\n",
    "\n",
    "# more random thoughts\n",
    "\n",
    "# data1['Call year']=[x.split(\"/\")[2] if x!='NA' else 'NA' for x in data1['First call date']]\n",
    "#data1['call split']=[x.split(\"/\") if len(x.split(\"/\"))==3 else 'NA' for x in data1['First call date']]\n",
    "# data1['Call month']\n",
    "#data1['Call day']\n",
    "\n",
    "\n"
   ]
  },
  {
   "cell_type": "code",
   "execution_count": 83,
   "id": "3fe81dff",
   "metadata": {},
   "outputs": [],
   "source": [
    "# Now I begin the process of figuring out how to bring in compustat info\n",
    "# issuer identifiers (cusip) are not quite coded the same across fisd and compustat so we have to be careful here\n",
    "# full names are kept from both databases for random visual inspection later\n",
    "\n",
    "db.list_tables(library=\"comp\")\n",
    "\n",
    "db.get_table('comp','funda',obs=1)\n",
    "\n",
    "data_comp= db.raw_sql('''select cusip, conm, ebitda, ni, sale, \n",
    "                        datadate FROM comp.funda WHERE datadate>='01/01/2020' ''').drop_duplicates(subset=['cusip']) #just keeping one line per issuer \n",
    "\n",
    "data_comp['cusip6']=[x[:6] for x in data_comp['cusip']] # this makes cusips comparable between FISD and Compustat\n",
    "\n",
    "# we can do much better in terms of getting issuer data from a date closest to issue.\n",
    "# will work on that later\n",
    "\n",
    "finaldata=pd.merge(data_fisd, data_comp, on=\"cusip6\")"
   ]
  },
  {
   "cell_type": "code",
   "execution_count": 84,
   "id": "e14059fd",
   "metadata": {},
   "outputs": [
    {
     "data": {
      "text/plain": [
       "0          N\n",
       "1          N\n",
       "2          N\n",
       "3       None\n",
       "4          N\n",
       "        ... \n",
       "2201    None\n",
       "2202    None\n",
       "2203    None\n",
       "2204       Y\n",
       "2205       Y\n",
       "Name: investment_grade, Length: 2206, dtype: object"
      ]
     },
     "execution_count": 84,
     "metadata": {},
     "output_type": "execute_result"
    }
   ],
   "source": [
    "finaldata['o']"
   ]
  },
  {
   "cell_type": "code",
   "execution_count": 85,
   "id": "5580de92",
   "metadata": {},
   "outputs": [
    {
     "data": {
      "text/plain": [
       "<matplotlib.collections.PathCollection at 0x15a5ff4b3c8>"
      ]
     },
     "execution_count": 85,
     "metadata": {},
     "output_type": "execute_result"
    },
    {
     "data": {
      "image/png": "[encoded data removed]",
      "text/plain": [
       "<Figure size 432x288 with 1 Axes>"
      ]
     },
     "metadata": {
      "needs_background": "light"
     },
     "output_type": "display_data"
    }
   ],
   "source": [
    "# a quick plot to celebrate that we have data now\n",
    "\n",
    "import matplotlib.pyplot as plt #graphing module with matlab-like properties\n",
    "%matplotlib inline \n",
    "\n",
    "# datacuts here\n",
    "\n",
    "datacut= ((finaldata['interest_frequency'] == '2') &\n",
    "          (finaldata['coupon_change_indicator']=='N') &\n",
    "          (finaldata['coupon']>0))\n",
    "\n",
    "# (finaldata['call_price']>100))\n",
    "          \n",
    "\n",
    "plt.scatter(finaldata['sale'][datacut],finaldata['call_price'][datacut])\n",
    "\n",
    "#from scipy.stats import pearsonr\n",
    "#corr,_=pearsonr(finaldata['sale'][morethan100],finaldata['call_price'][morethan100])\n"
   ]
  },
  {
   "cell_type": "code",
   "execution_count": 127,
   "id": "e75fe2fe",
   "metadata": {},
   "outputs": [
    {
     "data": {
      "text/plain": [
       "Ttest_indResult(statistic=9.320610128576302, pvalue=3.3201817534296544e-20)"
      ]
     },
     "execution_count": 127,
     "metadata": {},
     "output_type": "execute_result"
    }
   ],
   "source": [
    "# a few mean tests\n",
    "\n",
    "# first, is it true that HY don't have make-whole provisions?\n",
    "\n",
    "# first we need a dummy variable, pandas could make that a touch easier honestly\n",
    "\n",
    "datafixed=finaldata[datacut]\n",
    "datanew=pd.get_dummies(datafixed,columns=['make_whole','callable'])\n",
    "#datafixed=pd.concat([datafixed,datanew], axis=1)\n",
    "\n",
    "datanew['dscr']=datanew['ebitda']/(datanew['offering_amt']*datanew['coupon']/100)\n",
    "datanew['dtoy']=datanew['offering_amt']/datanew['ebitda']\n",
    "\n",
    "# And now mean by groups\n",
    "\n",
    "#datanew.groupby(['investment_grade'])['make_whole_Y'].mean()\n",
    "datanew.groupby(['make_whole_Y'])['offering_amt'].mean()\n",
    "\n",
    "datanew.dropna(subset=['make_whole_Y','offering_amt'],inplace=True)\n",
    "\n",
    "from scipy.stats import ttest_ind\n",
    "ttest_ind(*datanew.groupby('make_whole_Y')['offering_amt'].apply(lambda x:list(x)))\n"
   ]
  },
  {
   "cell_type": "code",
   "execution_count": 117,
   "id": "625dca23",
   "metadata": {},
   "outputs": [
    {
     "name": "stdout",
     "output_type": "stream",
     "text": [
      "Optimization terminated successfully.\n",
      "         Current function value: 0.016521\n",
      "         Iterations 9\n",
      "                           Logit Regression Results                           \n",
      "==============================================================================\n",
      "Dep. Variable:           make_whole_Y   No. Observations:                 1200\n",
      "Model:                          Logit   Df Residuals:                     1198\n",
      "Method:                           MLE   Df Model:                            1\n",
      "Date:                Thu, 14 Apr 2022   Pseudo R-squ.:                     inf\n",
      "Time:                        13:41:01   Log-Likelihood:                -19.825\n",
      "converged:                       True   LL-Null:                        0.0000\n",
      "Covariance Type:            nonrobust   LLR p-value:                     1.000\n",
      "==============================================================================\n",
      "                 coef    std err          z      P>|z|      [0.025      0.975]\n",
      "------------------------------------------------------------------------------\n",
      "const          3.9281      0.264     14.882      0.000       3.411       4.445\n",
      "sale        5.245e-06   5.89e-06      0.891      0.373   -6.29e-06    1.68e-05\n",
      "==============================================================================\n"
     ]
    },
    {
     "name": "stderr",
     "output_type": "stream",
     "text": [
      "C:\\Users\\equintin\\.julia\\conda\\3\\lib\\site-packages\\statsmodels\\base\\model.py:548: HessianInversionWarning: Inverting hessian failed, no bse or cov_params available\n",
      "  'available', HessianInversionWarning)\n",
      "C:\\Users\\equintin\\.julia\\conda\\3\\lib\\site-packages\\statsmodels\\base\\model.py:548: HessianInversionWarning: Inverting hessian failed, no bse or cov_params available\n",
      "  'available', HessianInversionWarning)\n",
      "C:\\Users\\equintin\\.julia\\conda\\3\\lib\\site-packages\\statsmodels\\discrete\\discrete_model.py:3500: RuntimeWarning: divide by zero encountered in double_scalars\n",
      "  return 1 - self.llf/self.llnull\n"
     ]
    }
   ],
   "source": [
    "# and now a probit\n",
    "# dependent is make_whole\n",
    "# independent is sales\n",
    "# don't work yet because lots of duplicates for some reason\n",
    "\n",
    "import statsmodels.api as sm\n",
    "import numpy as np\n",
    "\n",
    "datalog=datanew.dropna()\n",
    "X=datalog[['sale']]\n",
    "# y=np.asarray(dataprob['make_whole_Y'])\n",
    "#  x=np.asarray(dataprob['sale'])\n",
    "X=sm.add_constant(X)\n",
    "y=datalog['make_whole_Y']\n",
    "model=sm.Logit(y,X)\n",
    "result = model.fit()\n",
    "print(result.summary())\n",
    "\n",
    "\n"
   ]
  },
  {
   "cell_type": "code",
   "execution_count": null,
   "id": "9fa4be8f",
   "metadata": {},
   "outputs": [],
   "source": []
  }
 ],
 "metadata": {
  "kernelspec": {
   "display_name": "Python 3",
   "language": "python",
   "name": "python3"
  },
  "language_info": {
   "codemirror_mode": {
    "name": "ipython",
    "version": 3
   },
   "file_extension": ".py",
   "mimetype": "text/x-python",
   "name": "python",
   "nbconvert_exporter": "python",
   "pygments_lexer": "ipython3",
   "version": "3.6.13"
  }
 },
 "nbformat": 4,
 "nbformat_minor": 5
}
